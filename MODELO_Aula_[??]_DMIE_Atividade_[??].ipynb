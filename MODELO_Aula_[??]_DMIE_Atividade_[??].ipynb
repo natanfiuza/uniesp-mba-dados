{
  "nbformat": 4,
  "nbformat_minor": 0,
  "metadata": {
    "colab": {
      "provenance": [],
      "include_colab_link": true
    },
    "kernelspec": {
      "name": "python3",
      "display_name": "Python 3"
    },
    "language_info": {
      "name": "python"
    }
  },
  "cells": [
    {
      "cell_type": "markdown",
      "metadata": {
        "id": "view-in-github",
        "colab_type": "text"
      },
      "source": [
        "<a href=\"https://colab.research.google.com/github/natanfiuza/uniesp-mba-dados/blob/main/MODELO_Aula_%5B%3F%3F%5D_DMIE_Atividade_%5B%3F%3F%5D.ipynb\" target=\"_parent\"><img src=\"https://colab.research.google.com/assets/colab-badge.svg\" alt=\"Open In Colab\"/></a>"
      ]
    },
    {
      "cell_type": "markdown",
      "source": [
        "# Atividade [??] - [Título da Atividade]\n",
        "\n",
        "[Descrição da Atividade]\n",
        "\n"
      ],
      "metadata": {
        "id": "ANf0dLR8FmFK"
      }
    },
    {
      "cell_type": "markdown",
      "source": [
        "## Importações"
      ],
      "metadata": {
        "id": "iOEy-80ZGJei"
      }
    },
    {
      "cell_type": "code",
      "execution_count": null,
      "metadata": {
        "id": "2WoW5d2oE0l0"
      },
      "outputs": [],
      "source": []
    },
    {
      "cell_type": "markdown",
      "source": [
        "## Instanciação do DataFrame"
      ],
      "metadata": {
        "id": "A6IeuoPeGPKN"
      }
    },
    {
      "cell_type": "code",
      "source": [
        "df ="
      ],
      "metadata": {
        "id": "_nbf0iOLFJS1"
      },
      "execution_count": null,
      "outputs": []
    },
    {
      "cell_type": "markdown",
      "source": [
        "## Descrição da base de dados"
      ],
      "metadata": {
        "id": "NFLyXjC-GOFT"
      }
    },
    {
      "cell_type": "code",
      "source": [],
      "metadata": {
        "id": "RFdzpsrYFUGb"
      },
      "execution_count": null,
      "outputs": []
    },
    {
      "cell_type": "markdown",
      "source": [
        "## Hipóteses\n",
        "\n",
        "\n",
        "*   Hipótese 1\n",
        "*   Hipótese 2\n",
        "*   Hipótese 3\n",
        "\n",
        "\n"
      ],
      "metadata": {
        "id": "59_H6--xFi_F"
      }
    },
    {
      "cell_type": "markdown",
      "source": [
        "### Resposta da hipótese 1"
      ],
      "metadata": {
        "id": "ILpmwjbqIY2C"
      }
    },
    {
      "cell_type": "code",
      "source": [],
      "metadata": {
        "id": "vqsZ90I-IPbV"
      },
      "execution_count": null,
      "outputs": []
    },
    {
      "cell_type": "markdown",
      "source": [
        "### Resposta da hipótese 2"
      ],
      "metadata": {
        "id": "ooHDbUwVIbvl"
      }
    },
    {
      "cell_type": "code",
      "source": [],
      "metadata": {
        "id": "prpWTq3KIeS1"
      },
      "execution_count": null,
      "outputs": []
    }
  ]
}